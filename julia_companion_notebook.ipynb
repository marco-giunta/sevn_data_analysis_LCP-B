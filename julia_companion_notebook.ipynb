{
 "cells": [
  {
   "cell_type": "markdown",
   "id": "9fa5aca5-5dbf-447a-9d00-b65a593d0b15",
   "metadata": {},
   "source": [
    "# Julia companion notebook: merge time computation using DifferentialEquations.jl"
   ]
  },
  {
   "cell_type": "code",
   "execution_count": 1,
   "id": "be8bee46-6906-40e9-bf6f-ffb2c5522037",
   "metadata": {},
   "outputs": [],
   "source": [
    "using DifferentialEquations, DataFrames, CSV"
   ]
  },
  {
   "cell_type": "code",
   "execution_count": 2,
   "id": "3c12ba3b-86b4-45b2-9635-2dfc5e1710ab",
   "metadata": {},
   "outputs": [
    {
     "data": {
      "text/html": [
       "<table class=\"data-frame\"><thead><tr><th></th><th>Semimajor</th><th>Eccentricity</th><th>Mass_0</th><th>Mass_1</th><th>BWorldtime</th><th>GWtime</th></tr><tr><th></th><th>Float64</th><th>Float64</th><th>Float64</th><th>Float64</th><th>Float64</th><th>Float64</th></tr></thead><tbody><p>2,500 rows × 6 columns</p><tr><th>1</th><td>8218.09</td><td>0.933191</td><td>43.8982</td><td>26.7488</td><td>6.25564</td><td>6.38255e9</td></tr><tr><th>2</th><td>134.886</td><td>0.00994416</td><td>23.0484</td><td>27.2323</td><td>4.97521</td><td>1.57202e6</td></tr><tr><th>3</th><td>481.943</td><td>0.0125616</td><td>36.26</td><td>32.6622</td><td>4.73317</td><td>9.90318e7</td></tr><tr><th>4</th><td>80356.4</td><td>0.0957917</td><td>38.3061</td><td>56.341</td><td>4.17184</td><td>2.96301e16</td></tr><tr><th>5</th><td>109.564</td><td>0.0144397</td><td>17.2293</td><td>17.3973</td><td>6.98481</td><td>2.08e6</td></tr><tr><th>6</th><td>206.199</td><td>0.0101597</td><td>21.0744</td><td>28.1394</td><td>5.00198</td><td>9.28317e6</td></tr><tr><th>7</th><td>159.284</td><td>0.0102363</td><td>24.0653</td><td>24.7807</td><td>5.47265</td><td>3.31179e6</td></tr><tr><th>8</th><td>8975.55</td><td>0.322961</td><td>25.9777</td><td>20.8143</td><td>6.63212</td><td>2.61538e13</td></tr><tr><th>9</th><td>79727.1</td><td>0.558309</td><td>53.849</td><td>46.3493</td><td>4.69829</td><td>6.55249e15</td></tr><tr><th>10</th><td>960.648</td><td>0.0598285</td><td>40.5068</td><td>40.7008</td><td>3.67511</td><td>9.41761e8</td></tr><tr><th>11</th><td>57620.8</td><td>0.4654</td><td>44.656</td><td>34.2425</td><td>5.85802</td><td>5.82923e15</td></tr><tr><th>12</th><td>5067.23</td><td>0.547819</td><td>37.6967</td><td>22.4842</td><td>6.4566</td><td>5.55802e11</td></tr><tr><th>13</th><td>4950.29</td><td>0.527894</td><td>39.9081</td><td>39.4108</td><td>5.19259</td><td>2.30036e11</td></tr><tr><th>14</th><td>202.21</td><td>0.00996215</td><td>28.618</td><td>21.572</td><td>4.66269</td><td>8.08686e6</td></tr><tr><th>15</th><td>98810.3</td><td>0.263354</td><td>57.9779</td><td>55.7337</td><td>4.19946</td><td>3.02433e16</td></tr><tr><th>16</th><td>128.62</td><td>0.0100195</td><td>25.1733</td><td>24.7294</td><td>5.40624</td><td>1.32026e6</td></tr><tr><th>17</th><td>303.034</td><td>0.00745593</td><td>40.4984</td><td>26.5624</td><td>4.22623</td><td>1.75214e7</td></tr><tr><th>18</th><td>399.526</td><td>0.0143527</td><td>41.1607</td><td>33.2501</td><td>3.86757</td><td>3.74816e7</td></tr><tr><th>19</th><td>30456.5</td><td>0.0087951</td><td>53.5025</td><td>49.2458</td><td>4.49505</td><td>4.7637e14</td></tr><tr><th>20</th><td>45.0939</td><td>0.114667</td><td>15.8915</td><td>2.82766</td><td>7.60698</td><td>7.03619e5</td></tr><tr><th>21</th><td>126.931</td><td>0.0120628</td><td>20.6271</td><td>20.8225</td><td>6.0862</td><td>2.18486e6</td></tr><tr><th>22</th><td>10254.5</td><td>0.184119</td><td>34.953</td><td>43.1358</td><td>4.92858</td><td>1.24793e13</td></tr><tr><th>23</th><td>8962.46</td><td>0.485518</td><td>34.5308</td><td>28.3785</td><td>6.18262</td><td>6.12391e12</td></tr><tr><th>24</th><td>33407.4</td><td>0.52428</td><td>1.31055</td><td>1.27761</td><td>36.0905</td><td>1.3991e19</td></tr><tr><th>25</th><td>90.9166</td><td>0.537171</td><td>22.7457</td><td>2.50375</td><td>9.36544</td><td>2.16367e6</td></tr><tr><th>26</th><td>13812.6</td><td>0.284408</td><td>43.9821</td><td>37.8102</td><td>5.3943</td><td>2.98642e13</td></tr><tr><th>27</th><td>8.59244</td><td>0.446018</td><td>5.93445</td><td>1.7085</td><td>11.7391</td><td>4851.93</td></tr><tr><th>28</th><td>5053.25</td><td>0.0399383</td><td>56.2039</td><td>50.6615</td><td>4.43064</td><td>3.19475e11</td></tr><tr><th>29</th><td>1430.08</td><td>0.0417338</td><td>41.0539</td><td>38.3398</td><td>4.25379</td><td>4.98726e9</td></tr><tr><th>30</th><td>17740.8</td><td>0.647176</td><td>39.7915</td><td>14.369</td><td>7.59483</td><td>7.1763e13</td></tr><tr><th>&vellip;</th><td>&vellip;</td><td>&vellip;</td><td>&vellip;</td><td>&vellip;</td><td>&vellip;</td><td>&vellip;</td></tr></tbody></table>"
      ],
      "text/latex": [
       "\\begin{tabular}{r|cccccc}\n",
       "\t& Semimajor & Eccentricity & Mass\\_0 & Mass\\_1 & BWorldtime & GWtime\\\\\n",
       "\t\\hline\n",
       "\t& Float64 & Float64 & Float64 & Float64 & Float64 & Float64\\\\\n",
       "\t\\hline\n",
       "\t1 & 8218.09 & 0.933191 & 43.8982 & 26.7488 & 6.25564 & 6.38255e9 \\\\\n",
       "\t2 & 134.886 & 0.00994416 & 23.0484 & 27.2323 & 4.97521 & 1.57202e6 \\\\\n",
       "\t3 & 481.943 & 0.0125616 & 36.26 & 32.6622 & 4.73317 & 9.90318e7 \\\\\n",
       "\t4 & 80356.4 & 0.0957917 & 38.3061 & 56.341 & 4.17184 & 2.96301e16 \\\\\n",
       "\t5 & 109.564 & 0.0144397 & 17.2293 & 17.3973 & 6.98481 & 2.08e6 \\\\\n",
       "\t6 & 206.199 & 0.0101597 & 21.0744 & 28.1394 & 5.00198 & 9.28317e6 \\\\\n",
       "\t7 & 159.284 & 0.0102363 & 24.0653 & 24.7807 & 5.47265 & 3.31179e6 \\\\\n",
       "\t8 & 8975.55 & 0.322961 & 25.9777 & 20.8143 & 6.63212 & 2.61538e13 \\\\\n",
       "\t9 & 79727.1 & 0.558309 & 53.849 & 46.3493 & 4.69829 & 6.55249e15 \\\\\n",
       "\t10 & 960.648 & 0.0598285 & 40.5068 & 40.7008 & 3.67511 & 9.41761e8 \\\\\n",
       "\t11 & 57620.8 & 0.4654 & 44.656 & 34.2425 & 5.85802 & 5.82923e15 \\\\\n",
       "\t12 & 5067.23 & 0.547819 & 37.6967 & 22.4842 & 6.4566 & 5.55802e11 \\\\\n",
       "\t13 & 4950.29 & 0.527894 & 39.9081 & 39.4108 & 5.19259 & 2.30036e11 \\\\\n",
       "\t14 & 202.21 & 0.00996215 & 28.618 & 21.572 & 4.66269 & 8.08686e6 \\\\\n",
       "\t15 & 98810.3 & 0.263354 & 57.9779 & 55.7337 & 4.19946 & 3.02433e16 \\\\\n",
       "\t16 & 128.62 & 0.0100195 & 25.1733 & 24.7294 & 5.40624 & 1.32026e6 \\\\\n",
       "\t17 & 303.034 & 0.00745593 & 40.4984 & 26.5624 & 4.22623 & 1.75214e7 \\\\\n",
       "\t18 & 399.526 & 0.0143527 & 41.1607 & 33.2501 & 3.86757 & 3.74816e7 \\\\\n",
       "\t19 & 30456.5 & 0.0087951 & 53.5025 & 49.2458 & 4.49505 & 4.7637e14 \\\\\n",
       "\t20 & 45.0939 & 0.114667 & 15.8915 & 2.82766 & 7.60698 & 7.03619e5 \\\\\n",
       "\t21 & 126.931 & 0.0120628 & 20.6271 & 20.8225 & 6.0862 & 2.18486e6 \\\\\n",
       "\t22 & 10254.5 & 0.184119 & 34.953 & 43.1358 & 4.92858 & 1.24793e13 \\\\\n",
       "\t23 & 8962.46 & 0.485518 & 34.5308 & 28.3785 & 6.18262 & 6.12391e12 \\\\\n",
       "\t24 & 33407.4 & 0.52428 & 1.31055 & 1.27761 & 36.0905 & 1.3991e19 \\\\\n",
       "\t25 & 90.9166 & 0.537171 & 22.7457 & 2.50375 & 9.36544 & 2.16367e6 \\\\\n",
       "\t26 & 13812.6 & 0.284408 & 43.9821 & 37.8102 & 5.3943 & 2.98642e13 \\\\\n",
       "\t27 & 8.59244 & 0.446018 & 5.93445 & 1.7085 & 11.7391 & 4851.93 \\\\\n",
       "\t28 & 5053.25 & 0.0399383 & 56.2039 & 50.6615 & 4.43064 & 3.19475e11 \\\\\n",
       "\t29 & 1430.08 & 0.0417338 & 41.0539 & 38.3398 & 4.25379 & 4.98726e9 \\\\\n",
       "\t30 & 17740.8 & 0.647176 & 39.7915 & 14.369 & 7.59483 & 7.1763e13 \\\\\n",
       "\t$\\dots$ & $\\dots$ & $\\dots$ & $\\dots$ & $\\dots$ & $\\dots$ & $\\dots$ \\\\\n",
       "\\end{tabular}\n"
      ],
      "text/plain": [
       "\u001b[1m2500×6 DataFrame\u001b[0m\n",
       "\u001b[1m  Row \u001b[0m│\u001b[1m Semimajor   \u001b[0m\u001b[1m Eccentricity \u001b[0m\u001b[1m Mass_0  \u001b[0m\u001b[1m Mass_1   \u001b[0m\u001b[1m BWorldtime \u001b[0m\u001b[1m GWtime      \u001b[0m ⋯\n",
       "\u001b[1m      \u001b[0m│\u001b[90m Float64     \u001b[0m\u001b[90m Float64      \u001b[0m\u001b[90m Float64 \u001b[0m\u001b[90m Float64  \u001b[0m\u001b[90m Float64    \u001b[0m\u001b[90m Float64     \u001b[0m ⋯\n",
       "──────┼─────────────────────────────────────────────────────────────────────────\n",
       "    1 │  8218.09       0.933191    43.8982  26.7488      6.25564       6.38255 ⋯\n",
       "    2 │   134.886      0.00994416  23.0484  27.2323      4.97521       1.57202\n",
       "    3 │   481.943      0.0125616   36.26    32.6622      4.73317       9.90318\n",
       "    4 │ 80356.4        0.0957917   38.3061  56.341       4.17184       2.96301\n",
       "    5 │   109.564      0.0144397   17.2293  17.3973      6.98481       2.08e6  ⋯\n",
       "    6 │   206.199      0.0101597   21.0744  28.1394      5.00198       9.28317\n",
       "    7 │   159.284      0.0102363   24.0653  24.7807      5.47265       3.31179\n",
       "    8 │  8975.55       0.322961    25.9777  20.8143      6.63212       2.61538\n",
       "    9 │ 79727.1        0.558309    53.849   46.3493      4.69829       6.55249 ⋯\n",
       "   10 │   960.648      0.0598285   40.5068  40.7008      3.67511       9.41761\n",
       "   11 │ 57620.8        0.4654      44.656   34.2425      5.85802       5.82923\n",
       "  ⋮   │      ⋮            ⋮           ⋮        ⋮          ⋮              ⋮     ⋱\n",
       " 2491 │  1296.87       0.902487    24.3088  13.3335      7.76638       9.55874\n",
       " 2492 │    80.9557     0.0158837   14.6818  16.7971      6.97251       8.28774 ⋯\n",
       " 2493 │    92.7691     0.0102146   35.452   11.6956      6.27661  567800.0\n",
       " 2494 │   157.76       0.00767431  40.9519  24.2005      5.04965       1.43791\n",
       " 2495 │ 24223.7        0.341591    57.61    53.6867      4.29273       9.71365\n",
       " 2496 │   119.959      0.00988156  26.3987  24.2006      4.65562       9.60032 ⋯\n",
       " 2497 │    20.2147     0.0543501   35.8328  35.5689      3.65564     272.254\n",
       " 2498 │    20.8463     0.126676    37.9433   7.3211      7.13728    2127.76\n",
       " 2499 │     4.56929    0.00831096  38.9521  21.2094      5.64147       1.31454\n",
       " 2500 │  2978.11       0.493297    42.5943  26.3137      3.2988        5.754e1 ⋯\n",
       "\u001b[36m                                                  1 column and 2479 rows omitted\u001b[0m"
      ]
     },
     "execution_count": 2,
     "metadata": {},
     "output_type": "execute_result"
    }
   ],
   "source": [
    "df = CSV.read(\"df_julia_input.csv\", DataFrame)"
   ]
  },
  {
   "cell_type": "code",
   "execution_count": 3,
   "id": "b63bc5f1-be7f-4a74-93c0-4522d5b92b6f",
   "metadata": {},
   "outputs": [
    {
     "data": {
      "text/plain": [
       "1.359886513235705e13"
      ]
     },
     "execution_count": 3,
     "metadata": {},
     "output_type": "execute_result"
    }
   ],
   "source": [
    "G = 3.925125598496094e+20\n",
    "c = 13598865132357.05"
   ]
  },
  {
   "cell_type": "markdown",
   "id": "b5a292a6-ea62-400b-a360-db20fb22b0cc",
   "metadata": {},
   "source": [
    "## How does this work?\n",
    "This notebook is NOT meant to carefully explain how to use DifferentialEquations.jl; for that there's a good amount of documentation on the internet. Moreover we won't really explain the details (as most are Julia specific), so here's a recap of what we need to do.          \n",
    "In order to use DifferentialEquations.jl one needs to specify a problem i.e. an equation to solve, then solve it. It's possible to generalize this to an ensemble of e.g. different initial conditions/integration intervals/etc. (exactly what we need) by specifying a function that explains how to switch from a problem to the next one. Therefore this is what we're doing below:\n",
    "- we create array containing the tuples of time intervals wrt integrate for every row, etc.;\n",
    "- we define the base problem and how to \"update\" it in the ensemble;\n",
    "- we solve the ensemble problem and save the solution."
   ]
  },
  {
   "cell_type": "code",
   "execution_count": 4,
   "id": "950b07f4-8aae-489d-9220-31d58d792f92",
   "metadata": {},
   "outputs": [
    {
     "data": {
      "text/plain": [
       "f! (generic function with 1 method)"
      ]
     },
     "execution_count": 4,
     "metadata": {},
     "output_type": "execute_result"
    }
   ],
   "source": [
    "# first of all we create a bunch of useful arrays\n",
    "a_arr = df[!, \"Semimajor\"]\n",
    "\n",
    "e_arr = df[!, \"Eccentricity\"]\n",
    "\n",
    "u0_arr = [[a, e] for (a, e) in zip(a_arr, e_arr)]\n",
    "\n",
    "t0_arr = df[!, \"BWorldtime\"]\n",
    "GW_arr = df[!, \"GWtime\"]\n",
    "T = 13.8e3\n",
    "\n",
    "tspan_arr = [(t0, t1) for (t0, t1) in zip(t0_arr, GW_arr/2)]  # this /2 greatly improves speed without much impact on the result\n",
    "\n",
    "M_arr = df[!, \"Mass_0\"]\n",
    "m_arr = df[!, \"Mass_1\"]\n",
    "\n",
    "\n",
    "b0 = -64*G^3/(5*c^5)\n",
    "b1_arr = b0.*M_arr.*m_arr.*(M_arr+m_arr) # matlab-style elementwise product operator\n",
    "b2 = 73/24\n",
    "b3 = 37/96\n",
    "\n",
    "d0 = -304*G^3/(15*c^5)\n",
    "d1_arr = d0.*M_arr.*m_arr.*(M_arr+m_arr)\n",
    "d2 = 121/304\n",
    "\n",
    "k1 = 7/2\n",
    "k2 = 5/2\n",
    "\n",
    "# RHS of Peters' equation, inplace Julia friendly version\n",
    "function f!(du, u, p, t)\n",
    "    b0, b1, b2, b3, d0, d1, d2, k1, k2 = p\n",
    "    du[1] = b1*(1+b2*u[2]^2+b3*u[2]^2)/(u[1]^3*(abs(1-u[2]^2)^k1))\n",
    "    du[2] = d1*u[2]*(1+d2*u[2]^2)/(u[1]^4*(abs(1-u[2]^2)^k2))\n",
    "end"
   ]
  },
  {
   "cell_type": "code",
   "execution_count": 5,
   "id": "d05b834b-f96e-4ac4-aac8-e59eab6228a2",
   "metadata": {},
   "outputs": [
    {
     "data": {
      "text/plain": [
       "2500×9 Matrix{Float64}:\n",
       " -0.0016644  -138.071   3.04167  0.385417  …  -218.612   0.398026  3.5  2.5\n",
       " -0.0016644   -52.5273  3.04167  0.385417      -83.1682  0.398026  3.5  2.5\n",
       " -0.0016644  -135.859   3.04167  0.385417     -215.11    0.398026  3.5  2.5\n",
       " -0.0016644  -339.983   3.04167  0.385417     -538.306   0.398026  3.5  2.5\n",
       " -0.0016644   -17.275   3.04167  0.385417      -27.3521  0.398026  3.5  2.5\n",
       " -0.0016644   -48.5753  3.04167  0.385417  …   -76.9109  0.398026  3.5  2.5\n",
       " -0.0016644   -48.483   3.04167  0.385417      -76.7648  0.398026  3.5  2.5\n",
       " -0.0016644   -42.1106  3.04167  0.385417      -66.6751  0.398026  3.5  2.5\n",
       " -0.0016644  -416.235   3.04167  0.385417     -659.039   0.398026  3.5  2.5\n",
       " -0.0016644  -222.836   3.04167  0.385417     -352.823   0.398026  3.5  2.5\n",
       " -0.0016644  -200.804   3.04167  0.385417  …  -317.939   0.398026  3.5  2.5\n",
       " -0.0016644   -84.8978  3.04167  0.385417     -134.422   0.398026  3.5  2.5\n",
       " -0.0016644  -207.64    3.04167  0.385417     -328.763   0.398026  3.5  2.5\n",
       "  ⋮                                        ⋱     ⋮                      \n",
       " -0.0016644  -327.074   3.04167  0.385417     -517.868   0.398026  3.5  2.5\n",
       " -0.0016644   -39.1673  3.04167  0.385417      -62.0149  0.398026  3.5  2.5\n",
       " -0.0016644   -20.3068  3.04167  0.385417  …   -32.1524  0.398026  3.5  2.5\n",
       " -0.0016644   -12.9208  3.04167  0.385417      -20.458   0.398026  3.5  2.5\n",
       " -0.0016644   -32.5371  3.04167  0.385417      -51.517   0.398026  3.5  2.5\n",
       " -0.0016644  -107.47    3.04167  0.385417     -170.161   0.398026  3.5  2.5\n",
       " -0.0016644  -572.934   3.04167  0.385417     -907.145   0.398026  3.5  2.5\n",
       " -0.0016644   -53.8034  3.04167  0.385417  …   -85.1887  0.398026  3.5  2.5\n",
       " -0.0016644  -151.466   3.04167  0.385417     -239.822   0.398026  3.5  2.5\n",
       " -0.0016644   -20.9279  3.04167  0.385417      -33.1358  0.398026  3.5  2.5\n",
       " -0.0016644   -82.7247  3.04167  0.385417     -130.981   0.398026  3.5  2.5\n",
       " -0.0016644  -128.547   3.04167  0.385417     -203.532   0.398026  3.5  2.5"
      ]
     },
     "execution_count": 5,
     "metadata": {},
     "output_type": "execute_result"
    }
   ],
   "source": [
    "n = length(b1_arr)\n",
    "x = [fill(b0, n), b1_arr, fill(b2, n), fill(b3, n), fill(d0, n), d1_arr, fill(d2, n), fill(k1, n), fill(k2, n)]\n",
    "M = reduce(hcat, x)\n",
    "params_arr = M"
   ]
  },
  {
   "cell_type": "code",
   "execution_count": 6,
   "id": "c5e2db6c-db72-4754-b3c5-ce6aac893128",
   "metadata": {},
   "outputs": [
    {
     "data": {
      "text/plain": [
       "output_func (generic function with 1 method)"
      ]
     },
     "execution_count": 6,
     "metadata": {},
     "output_type": "execute_result"
    }
   ],
   "source": [
    "function prob_func(prob, i, repeat) # to update problems within the ensemble\n",
    "  remake(prob, u0 = u0_arr[i], tspan = tspan_arr[i], p = params_arr[i,:]) \n",
    "end\n",
    "\n",
    "output_func(sol,i) = (sol.t[end], false) # to tell Julia which part of the solution to save"
   ]
  },
  {
   "cell_type": "code",
   "execution_count": 7,
   "id": "dbd068e9-25c3-4b0c-8cc8-60cc7bcc92d9",
   "metadata": {},
   "outputs": [
    {
     "name": "stdout",
     "output_type": "stream",
     "text": [
      " 37.006554 seconds (75.57 M allocations: 5.086 GiB, 3.21% gc time, 0.02% compilation time)\n"
     ]
    },
    {
     "data": {
      "text/plain": [
       "EnsembleSolution Solution of length 2500 with uType:\n",
       "Float64"
      ]
     },
     "execution_count": 7,
     "metadata": {},
     "output_type": "execute_result"
    }
   ],
   "source": [
    "# DE problem\n",
    "prob = ODEProblem(f!, u0_arr[1], tspan_arr[1], params_arr[1,:]) \n",
    "# Ensemble of problems\n",
    "probE = EnsembleProblem(prob, prob_func = prob_func, output_func = output_func)\n",
    "\n",
    "# callback to stop the integration if a becomes negative (slightly different from the isco condition, but the result will of course be very close since the isco is always very small)\n",
    "condition(u, t, integrator) = u[1] #< 0 # equivalently \n",
    "affect!(integrator) = terminate!(integrator)\n",
    "#cb = DiscreteCallback(condition,affect!) # without interpolation\n",
    "cb = ContinuousCallback(condition, affect!) # with interpolation\n",
    "\n",
    "# we solve our ensemble with an automatic switch betwenn Tsit5 (an updated RK4) and Rosenbrock23 (an adaptive stiff solver similar to an updated LSODA)\n",
    "@time sol = solve(probE, AutoTsit5(Rosenbrock32()), callback = cb, trajectories = size(params_arr)[1]; verbose = false)\n",
    "# use ensemblealg = EnsembleDistributed() to easily parallelize on the CPU (not done here due to incomplete knowledge of Julia's Distributed library)"
   ]
  },
  {
   "cell_type": "code",
   "execution_count": 8,
   "id": "68ebc0f4-ea96-4bcf-a7e7-dbe1b69d85d3",
   "metadata": {},
   "outputs": [
    {
     "data": {
      "text/plain": [
       "2500-element Vector{Float64}:\n",
       "      3.191276e9\n",
       " 786007.5\n",
       "      4.95159e7\n",
       "      1.4815035e16\n",
       "      1.040001e6\n",
       "      4.641584e6\n",
       "      1.6558945e6\n",
       "      1.307692e13\n",
       "      3.276247e15\n",
       "      4.708807e8\n",
       "      2.914614e15\n",
       "      2.7790115e11\n",
       "      1.1501815e11\n",
       "      ⋮\n",
       "      7.33457e11\n",
       "      1.2475935e6\n",
       "      4.7793725e7\n",
       " 414387.15\n",
       " 283900.0\n",
       " 718953.5\n",
       "      4.856823e13\n",
       " 480015.8\n",
       "    136.12715\n",
       "   1063.881\n",
       "      0.6572720000000001\n",
       "      2.8770005e10"
      ]
     },
     "execution_count": 8,
     "metadata": {},
     "output_type": "execute_result"
    }
   ],
   "source": [
    "Vector(sol) # print the result"
   ]
  },
  {
   "cell_type": "code",
   "execution_count": 9,
   "id": "193c1289-a645-4d17-8236-0d2df9a09290",
   "metadata": {},
   "outputs": [
    {
     "data": {
      "text/plain": [
       "\"df_julia_output.csv\""
      ]
     },
     "execution_count": 9,
     "metadata": {},
     "output_type": "execute_result"
    }
   ],
   "source": [
    "CSV.write(\"df_julia_output.csv\", (data = Vector(sol), )) # save the result"
   ]
  }
 ],
 "metadata": {
  "kernelspec": {
   "display_name": "Julia 1.6.1",
   "language": "julia",
   "name": "julia-1.6"
  },
  "language_info": {
   "file_extension": ".jl",
   "mimetype": "application/julia",
   "name": "julia",
   "version": "1.6.1"
  }
 },
 "nbformat": 4,
 "nbformat_minor": 5
}
